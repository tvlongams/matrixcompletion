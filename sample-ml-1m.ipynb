{
 "cells": [
  {
   "cell_type": "markdown",
   "metadata": {},
   "source": [
    "# Incremental SGD for the MovieLens 1M dataset\n",
    "\n",
    "J. Vinagre, et al., \"**Fast incremental matrix factorization for recommendation with positive-only feedback**,\" Proc. UMAP 2014, pp. 459-470, July 2014."
   ]
  },
  {
   "cell_type": "code",
   "execution_count": 5,
   "metadata": {},
   "outputs": [],
   "source": [
    "import numpy as np\n",
    "import pandas as pd\n",
    "%matplotlib inline\n",
    "import matplotlib.pyplot as plt"
   ]
  },
  {
   "cell_type": "code",
   "execution_count": 2,
   "metadata": {
    "collapsed": false,
    "jupyter": {
     "outputs_hidden": false
    }
   },
   "outputs": [],
   "source": [
    "%load_ext autoreload\n",
    "%autoreload 2\n",
    "\n",
    "from ISGD import ISGD"
   ]
  },
  {
   "cell_type": "markdown",
   "metadata": {},
   "source": [
    "### Load MovieLens 1M dataset"
   ]
  },
  {
   "cell_type": "code",
   "execution_count": 3,
   "metadata": {
    "collapsed": false,
    "jupyter": {
     "outputs_hidden": false
    }
   },
   "outputs": [
    {
     "ename": "TypeError",
     "evalue": "'map' object is not subscriptable",
     "output_type": "error",
     "traceback": [
      "\u001b[1;31m---------------------------------------------------------------------------\u001b[0m",
      "\u001b[1;31mTypeError\u001b[0m                                 Traceback (most recent call last)",
      "\u001b[1;32m<ipython-input-3-806c64973ea8>\u001b[0m in \u001b[0;36m<module>\u001b[1;34m\u001b[0m\n\u001b[0;32m      4\u001b[0m     \u001b[1;32mfor\u001b[0m \u001b[0ml\u001b[0m \u001b[1;32min\u001b[0m \u001b[0mlines\u001b[0m\u001b[1;33m:\u001b[0m\u001b[1;33m\u001b[0m\u001b[1;33m\u001b[0m\u001b[0m\n\u001b[0;32m      5\u001b[0m         \u001b[1;31m# Since we consider positive-only feedback setting, ratings < 5 will be excluded.\u001b[0m\u001b[1;33m\u001b[0m\u001b[1;33m\u001b[0m\u001b[1;33m\u001b[0m\u001b[0m\n\u001b[1;32m----> 6\u001b[1;33m         \u001b[1;32mif\u001b[0m \u001b[0ml\u001b[0m\u001b[1;33m[\u001b[0m\u001b[1;36m2\u001b[0m\u001b[1;33m]\u001b[0m \u001b[1;33m==\u001b[0m \u001b[1;36m5\u001b[0m\u001b[1;33m:\u001b[0m \u001b[0mratings\u001b[0m\u001b[1;33m.\u001b[0m\u001b[0mappend\u001b[0m\u001b[1;33m(\u001b[0m\u001b[0ml\u001b[0m\u001b[1;33m)\u001b[0m\u001b[1;33m\u001b[0m\u001b[1;33m\u001b[0m\u001b[0m\n\u001b[0m\u001b[0;32m      7\u001b[0m \u001b[1;33m\u001b[0m\u001b[0m\n\u001b[0;32m      8\u001b[0m \u001b[0mratings\u001b[0m \u001b[1;33m=\u001b[0m \u001b[0mnp\u001b[0m\u001b[1;33m.\u001b[0m\u001b[0masarray\u001b[0m\u001b[1;33m(\u001b[0m\u001b[0mratings\u001b[0m\u001b[1;33m)\u001b[0m\u001b[1;33m\u001b[0m\u001b[1;33m\u001b[0m\u001b[0m\n",
      "\u001b[1;31mTypeError\u001b[0m: 'map' object is not subscriptable"
     ]
    }
   ],
   "source": [
    "ratings = []\n",
    "with open('ml-1m/ratings.dat') as f:\n",
    "    lines = map(lambda l: map(int, l.rstrip().split('::')), f.readlines())\n",
    "    for l in lines:\n",
    "        # Since we consider positive-only feedback setting, ratings < 5 will be excluded.\n",
    "        if l[2] == 5: ratings.append(l)\n",
    "\n",
    "ratings = np.asarray(ratings)\n",
    "ratings.shape"
   ]
  },
  {
   "cell_type": "code",
   "execution_count": 6,
   "metadata": {},
   "outputs": [
    {
     "name": "stderr",
     "output_type": "stream",
     "text": [
      "C:\\Users\\tvlon\\Anaconda3\\lib\\site-packages\\ipykernel_launcher.py:3: ParserWarning: Falling back to the 'python' engine because the 'c' engine does not support regex separators (separators > 1 char and different from '\\s+' are interpreted as regex); you can avoid this warning by specifying engine='python'.\n",
      "  This is separate from the ipykernel package so we can avoid doing imports until\n"
     ]
    }
   ],
   "source": [
    "r_cols = ['user_id', 'movie_id', 'rating', 'unix_timestamp']\n",
    "\n",
    "ratings_base = pd.read_csv('ml-1m/ratings.dat', sep='::', names=r_cols, encoding='latin-1')"
   ]
  },
  {
   "cell_type": "code",
   "execution_count": 7,
   "metadata": {},
   "outputs": [],
   "source": [
    "ratings = ratings_base.values"
   ]
  },
  {
   "cell_type": "code",
   "execution_count": null,
   "metadata": {},
   "outputs": [],
   "source": []
  },
  {
   "cell_type": "code",
   "execution_count": 8,
   "metadata": {
    "collapsed": false,
    "jupyter": {
     "outputs_hidden": false
    }
   },
   "outputs": [
    {
     "data": {
      "text/plain": [
       "array([[     6040,       858,         4, 956703932],\n",
       "       [     6040,      2384,         4, 956703954],\n",
       "       [     6040,       593,         5, 956703954],\n",
       "       [     6040,      1961,         4, 956703977],\n",
       "       [     6040,      2019,         5, 956703977],\n",
       "       [     6040,      1419,         3, 956704056],\n",
       "       [     6040,       213,         5, 956704056],\n",
       "       [     6040,      3111,         5, 956704056],\n",
       "       [     6040,       573,         4, 956704056],\n",
       "       [     6040,      3505,         4, 956704056]], dtype=int64)"
      ]
     },
     "execution_count": 8,
     "metadata": {},
     "output_type": "execute_result"
    }
   ],
   "source": [
    "# sorted by timestamp\n",
    "ratings = ratings[np.argsort(ratings[:, 3])]\n",
    "ratings[:10]"
   ]
  },
  {
   "cell_type": "code",
   "execution_count": 9,
   "metadata": {
    "collapsed": false,
    "jupyter": {
     "outputs_hidden": false
    }
   },
   "outputs": [
    {
     "data": {
      "text/plain": [
       "(6040, 3706)"
      ]
     },
     "execution_count": 9,
     "metadata": {},
     "output_type": "execute_result"
    }
   ],
   "source": [
    "users = set([])\n",
    "items = set([])\n",
    "for u, i, r, t in ratings:\n",
    "    users.add(u)\n",
    "    items.add(i)\n",
    "users = list(users)\n",
    "items = list(items)\n",
    "\n",
    "n_user = len(users)\n",
    "n_item = len(items)\n",
    "\n",
    "n_user, n_item"
   ]
  },
  {
   "cell_type": "markdown",
   "metadata": {},
   "source": [
    "## Run a *test-then-learn* procedure \n",
    "\n",
    "Simple Moving Average (SMA) with window size $n=5000$"
   ]
  },
  {
   "cell_type": "code",
   "execution_count": 13,
   "metadata": {
    "collapsed": false,
    "jupyter": {
     "outputs_hidden": false
    }
   },
   "outputs": [],
   "source": [
    "window_size =100# 5000 # for SMA\n",
    "N = 10 # recall@10\n",
    "\n",
    "history_mat = np.zeros((n_user, n_item))\n",
    "\n",
    "# initialize\n",
    "isgd = ISGD(n_user, n_item, k=100)\n",
    "\n",
    "# to avoid cold-start, train initial 20% samples\n",
    "n_ratings = ratings.shape[0]\n",
    "n_train = int(n_ratings * 0.2)\n",
    "for ri in range(n_train):\n",
    "    u, i, rating, timestamp = ratings[ri]\n",
    "    u_index = users.index(u)\n",
    "    i_index = items.index(i)\n",
    "    isgd.update(u_index, i_index)\n",
    "    history_mat[u_index, i_index] = 1\n",
    "\n",
    "avgs = []\n",
    "sma = []\n",
    "for ri in range(n_train, n_ratings):\n",
    "    u, i, rating, timestamp = ratings[ri]\n",
    "    u_index = users.index(u)\n",
    "    i_index = items.index(i)\n",
    "    \n",
    "    # 1.\n",
    "    if u_index in isgd.known_users:\n",
    "        # If u is a known user, use the current model to recommend N items,\n",
    "        recos = isgd.recommend(u_index, N, history_mat[u_index])\n",
    "        \n",
    "        # 2. Score the recommendation list given the true observed item i\n",
    "        recall = 1 if (i_index in recos) else 0\n",
    "        \n",
    "        sma.append(recall)\n",
    "        n = len(sma)\n",
    "        if n > window_size: \n",
    "            del sma[0]\n",
    "            n -= 1\n",
    "        avgs.append(sum(sma) / float(n))\n",
    "    \n",
    "    # 3. update the model with the observed event\n",
    "    isgd.update(u_index, i_index)\n",
    "    history_mat[u_index, i_index] = 1"
   ]
  },
  {
   "cell_type": "code",
   "execution_count": 19,
   "metadata": {
    "collapsed": false,
    "jupyter": {
     "outputs_hidden": false
    }
   },
   "outputs": [
    {
     "data": {
      "image/png": "[encoded data removed]",
      "text/plain": [
       "<Figure size 396x216 with 1 Axes>"
      ]
     },
     "metadata": {
      "needs_background": "light"
     },
     "output_type": "display_data"
    }
   ],
   "source": [
    "fig, ax = plt.subplots()\n",
    "ax.plot(range(len(avgs[:2000])), avgs[:2000])\n",
    "ax.set_xlabel('index')\n",
    "ax.set_ylabel('recall@10')\n",
    "ax.grid(True)\n",
    "#ax.set_xticks([0, 50000, 100000, 150000])\n",
    "#ax.set_yticks([0.00, 0.05, 0.10, 0.15])\n",
    "fig.set_size_inches((5.5,3))\n",
    "fig.patch.set_alpha(0.0)"
   ]
  },
  {
   "cell_type": "code",
   "execution_count": null,
   "metadata": {
    "collapsed": true,
    "jupyter": {
     "outputs_hidden": true
    }
   },
   "outputs": [],
   "source": []
  }
 ],
 "metadata": {
  "kernelspec": {
   "display_name": "Python 3",
   "language": "python",
   "name": "python3"
  },
  "language_info": {
   "codemirror_mode": {
    "name": "ipython",
    "version": 3
   },
   "file_extension": ".py",
   "mimetype": "text/x-python",
   "name": "python",
   "nbconvert_exporter": "python",
   "pygments_lexer": "ipython3",
   "version": "3.7.4"
  }
 },
 "nbformat": 4,
 "nbformat_minor": 4
}
